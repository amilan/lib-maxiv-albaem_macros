{
 "cells": [
  {
   "cell_type": "markdown",
   "metadata": {},
   "source": [
    "# EM# GPIO Tests\n",
    "\n",
    "## Introduction\n",
    "\n",
    "Here we will make some tests to use the GPIO ports available in the EM#.\n",
    "\n",
    "The idea is to be able to select different channels connected to a patch panel, throught a multiplexor, and be able to change them depending on the mode that is configured.\n",
    "\n",
    "\n",
    "## Connection\n",
    "\n",
    "Let's start openning a socket to the EM#."
   ]
  },
  {
   "cell_type": "code",
   "execution_count": 1,
   "metadata": {
    "collapsed": false
   },
   "outputs": [],
   "source": [
    "import socket\n",
    "\n",
    "class EMSocket(socket.socket):\n",
    "    FAMILY = socket.AF_INET\n",
    "    S_TYPE = socket.SOCK_STREAM\n",
    "    args = [FAMILY, S_TYPE]\n",
    "    def __init__(self, em_host, em_port=5025, *args, **kwargs):\n",
    "        socket.socket.__init__(self, *args, **kwargs)\n",
    "        self.em_host = em_host\n",
    "        self.em_port = em_port\n",
    "    \n",
    "    def __enter__(self):\n",
    "        self.connect((self.em_host, self.em_port))\n",
    "        self.settimeout(0.1)\n",
    "        return self\n",
    "    \n",
    "    def __exit__(self, *args, **kwargs):\n",
    "        # print args\n",
    "        # print kwargs\n",
    "        self.close()\n"
   ]
  },
  {
   "cell_type": "code",
   "execution_count": 2,
   "metadata": {
    "collapsed": true
   },
   "outputs": [],
   "source": [
    "EM = 'w-kitslab-em2-0'\n",
    "MODE = 2"
   ]
  },
  {
   "cell_type": "code",
   "execution_count": 4,
   "metadata": {
    "collapsed": false
   },
   "outputs": [
    {
     "name": "stdout",
     "output_type": "stream",
     "text": [
      "ALBASYNCHROTRON,Electrometer2,000000007, 1.10\r\n",
      "\n",
      "True\n"
     ]
    }
   ],
   "source": [
    "with EMSocket('w-kitslab-em2-0') as ems:\n",
    "    ems.send(\"*IDN?\\n\")\n",
    "    data = \"\"\n",
    "    while not data.endswith('\\n'):\n",
    "        recived = ems.recv(10240)\n",
    "        data += recived\n",
    "    print recived\n",
    "    print data.endswith('\\n')"
   ]
  },
  {
   "cell_type": "code",
   "execution_count": 36,
   "metadata": {
    "collapsed": false
   },
   "outputs": [
    {
     "name": "stdout",
     "output_type": "stream",
     "text": [
      "False True False\n"
     ]
    }
   ],
   "source": [
    "MODE = 2\n",
    "with EMSocket(EM) as ems:\n",
    "    ems.send(\"IOPO05:CONF 0;IOPO06:CONF 0;IOPO07:CONF 0\\n\")\n",
    "    a0 = MODE & 1 > 0\n",
    "    a1 = MODE & 2 > 0\n",
    "    a2 = MODE & 4 > 0\n",
    "    print a0, a1, a2\n",
    "    cmd = \"IOPO05:VALU %d;IOPO06:VALU %d;IOPO07:VALU %d\\n\" % (a0, a1, a2)\n",
    "    ems.send(cmd)"
   ]
  },
  {
   "cell_type": "code",
   "execution_count": 2,
   "metadata": {
    "collapsed": false,
    "scrolled": true
   },
   "outputs": [
    {
     "ename": "NameError",
     "evalue": "name 'EMSocket' is not defined",
     "output_type": "error",
     "traceback": [
      "\u001b[0;31m---------------------------------------------------------------------------\u001b[0m",
      "\u001b[0;31mNameError\u001b[0m                                 Traceback (most recent call last)",
      "\u001b[0;32m<ipython-input-2-fd45496e4976>\u001b[0m in \u001b[0;36m<module>\u001b[0;34m()\u001b[0m\n\u001b[0;32m----> 1\u001b[0;31m \u001b[0;32mwith\u001b[0m \u001b[0mEMSocket\u001b[0m\u001b[0;34m(\u001b[0m\u001b[0mEM\u001b[0m\u001b[0;34m)\u001b[0m \u001b[0;32mas\u001b[0m \u001b[0mems\u001b[0m\u001b[0;34m:\u001b[0m\u001b[0;34m\u001b[0m\u001b[0m\n\u001b[0m\u001b[1;32m      2\u001b[0m     \u001b[0mems\u001b[0m\u001b[0;34m.\u001b[0m\u001b[0msend\u001b[0m\u001b[0;34m(\u001b[0m\u001b[0;34m\"IOPO05:CONF 0;\\n\"\u001b[0m\u001b[0;34m)\u001b[0m\u001b[0;34m\u001b[0m\u001b[0m\n\u001b[1;32m      3\u001b[0m     \u001b[0ma0\u001b[0m \u001b[0;34m=\u001b[0m \u001b[0mTrue\u001b[0m\u001b[0;34m\u001b[0m\u001b[0m\n\u001b[1;32m      4\u001b[0m     \u001b[0mcmd\u001b[0m \u001b[0;34m=\u001b[0m \u001b[0;34m\"IOP05:VALU %d;\\n\"\u001b[0m \u001b[0;34m%\u001b[0m \u001b[0ma0\u001b[0m\u001b[0;34m\u001b[0m\u001b[0m\n\u001b[1;32m      5\u001b[0m     \u001b[0mems\u001b[0m\u001b[0;34m.\u001b[0m\u001b[0msend\u001b[0m\u001b[0;34m(\u001b[0m\u001b[0mcmd\u001b[0m\u001b[0;34m)\u001b[0m\u001b[0;34m\u001b[0m\u001b[0m\n",
      "\u001b[0;31mNameError\u001b[0m: name 'EMSocket' is not defined"
     ]
    }
   ],
   "source": [
    "with EMSocket(EM) as ems:\n",
    "    ems.send(\"IOPO05:CONF 0;\\n\")\n",
    "    a0 = True\n",
    "    cmd = \"IOP05:VALU %d;\\n\" % a0\n",
    "    ems.send(cmd)"
   ]
  },
  {
   "cell_type": "markdown",
   "metadata": {
    "collapsed": true
   },
   "source": [
    "# Testing the ports\n",
    "\n",
    "The following code will test one by one the different modes available.\n",
    "We can also see how the leds are changed in the patch panel."
   ]
  },
  {
   "cell_type": "code",
   "execution_count": 55,
   "metadata": {
    "collapsed": false
   },
   "outputs": [
    {
     "name": "stdout",
     "output_type": "stream",
     "text": [
      "Sending mode 0\n",
      "False False False\n",
      "Sending mode 1\n",
      "True False False\n",
      "Sending mode 2\n",
      "False True False\n",
      "Sending mode 3\n",
      "True True False\n",
      "Sending mode 4\n",
      "False False True\n",
      "Sending mode 5\n",
      "True False True\n",
      "Sending mode 6\n",
      "False True True\n",
      "Sending mode 7\n",
      "True True True\n"
     ]
    }
   ],
   "source": [
    "import time\n",
    "\n",
    "def send_mode(mode):\n",
    "    with EMSocket(EM) as ems:\n",
    "        ems.send(\"IOPO05:CONF 0;IOPO06:CONF 0;IOPO07:CONF 0\\n\")\n",
    "        a0 = mode & 1 > 0\n",
    "        a1 = mode & 2 > 0\n",
    "        a2 = mode & 4 > 0\n",
    "        print a0, a1, a2\n",
    "        time.sleep(1)\n",
    "        cmd = \"IOPO05:VALU %d;IOPO06:VALU %d;IOPO07:VALU %d\\n\" % (a0, a1, a2)\n",
    "        ems.send(cmd)\n",
    "\n",
    "for i in range(8):\n",
    "    print \"Sending mode %d\"%i\n",
    "    send_mode(i)\n",
    "    time.sleep(3)"
   ]
  },
  {
   "cell_type": "code",
   "execution_count": null,
   "metadata": {
    "collapsed": false
   },
   "outputs": [],
   "source": []
  }
 ],
 "metadata": {
  "anaconda-cloud": {},
  "kernelspec": {
   "display_name": "Python [default]",
   "language": "python",
   "name": "python2"
  },
  "language_info": {
   "codemirror_mode": {
    "name": "ipython",
    "version": 2
   },
   "file_extension": ".py",
   "mimetype": "text/x-python",
   "name": "python",
   "nbconvert_exporter": "python",
   "pygments_lexer": "ipython2",
   "version": "2.7.12"
  }
 },
 "nbformat": 4,
 "nbformat_minor": 1
}
